{
  "nbformat": 4,
  "nbformat_minor": 0,
  "metadata": {
    "colab": {
      "name": "pdb_parser.ipynb",
      "provenance": [],
      "collapsed_sections": [],
      "authorship_tag": "ABX9TyNZr21hvrR/Tooym8abPxdD",
      "include_colab_link": true
    },
    "kernelspec": {
      "name": "python3",
      "display_name": "Python 3"
    },
    "language_info": {
      "name": "python"
    }
  },
  "cells": [
    {
      "cell_type": "markdown",
      "metadata": {
        "id": "view-in-github",
        "colab_type": "text"
      },
      "source": [
        "<a href=\"https://colab.research.google.com/github/radhikasethi2011/ProteinClassify/blob/main/colab/pdb_parser.ipynb\" target=\"_parent\"><img src=\"https://colab.research.google.com/assets/colab-badge.svg\" alt=\"Open In Colab\"/></a>"
      ]
    },
    {
      "cell_type": "markdown",
      "source": [
        "a few checks, \n",
        "- some pdb and chains are repeated in the scop list - dropped duplicates. "
      ],
      "metadata": {
        "id": "wxVxH1jhc7F0"
      }
    },
    {
      "cell_type": "code",
      "execution_count": 1,
      "metadata": {
        "colab": {
          "base_uri": "https://localhost:8080/"
        },
        "id": "58fDI3UaZ59e",
        "outputId": "6c4a830e-db02-44ff-91aa-300f9743415c"
      },
      "outputs": [
        {
          "output_type": "stream",
          "name": "stdout",
          "text": [
            "Cloning into 'ProteinClassify'...\n",
            "remote: Enumerating objects: 10, done.\u001b[K\n",
            "remote: Counting objects: 100% (10/10), done.\u001b[K\n",
            "remote: Compressing objects: 100% (7/7), done.\u001b[K\n",
            "remote: Total 10 (delta 0), reused 0 (delta 0), pack-reused 0\u001b[K\n",
            "Unpacking objects: 100% (10/10), done.\n"
          ]
        }
      ],
      "source": [
        "!git clone https://github.com/radhikasethi2011/ProteinClassify.git"
      ]
    },
    {
      "cell_type": "code",
      "source": [
        "import numpy as np\n",
        "import pandas as pd\n",
        "import os\n",
        "import glob as glob"
      ],
      "metadata": {
        "id": "OBDQ4ThRapAN"
      },
      "execution_count": 2,
      "outputs": []
    },
    {
      "cell_type": "code",
      "source": [
        "cols = ['domid','pdbid', 'pdbchain']\n",
        "scop = pd.read_csv('/content/ProteinClassify/scop-represented-structures-latest.txt',\n",
        "                   header = None, skiprows=6, names=cols, delimiter = ' ')\n",
        "scop"
      ],
      "metadata": {
        "colab": {
          "base_uri": "https://localhost:8080/",
          "height": 424
        },
        "id": "4AwVXdHJaw9W",
        "outputId": "890f8c03-3aa4-4807-cc1c-fca3106197ee"
      },
      "execution_count": 3,
      "outputs": [
        {
          "output_type": "execute_result",
          "data": {
            "text/plain": [
              "          domid pdbid pdbchain\n",
              "0       8000061  2DT5        B\n",
              "1       8000376  2FR1        A\n",
              "2       8000376  6W7S        A\n",
              "3       8000376  6WH9        A\n",
              "4       8000376  6WH9        D\n",
              "...         ...   ...      ...\n",
              "858211  8107712  7T7E        A\n",
              "858212  8107712  7T7F        A\n",
              "858213  8107712  7T7G        A\n",
              "858214  8107715  7R1K        A\n",
              "858215  8107716  7R1K        A\n",
              "\n",
              "[858216 rows x 3 columns]"
            ],
            "text/html": [
              "\n",
              "  <div id=\"df-6647e63d-9426-4810-a2b5-2aedf6e1d0aa\">\n",
              "    <div class=\"colab-df-container\">\n",
              "      <div>\n",
              "<style scoped>\n",
              "    .dataframe tbody tr th:only-of-type {\n",
              "        vertical-align: middle;\n",
              "    }\n",
              "\n",
              "    .dataframe tbody tr th {\n",
              "        vertical-align: top;\n",
              "    }\n",
              "\n",
              "    .dataframe thead th {\n",
              "        text-align: right;\n",
              "    }\n",
              "</style>\n",
              "<table border=\"1\" class=\"dataframe\">\n",
              "  <thead>\n",
              "    <tr style=\"text-align: right;\">\n",
              "      <th></th>\n",
              "      <th>domid</th>\n",
              "      <th>pdbid</th>\n",
              "      <th>pdbchain</th>\n",
              "    </tr>\n",
              "  </thead>\n",
              "  <tbody>\n",
              "    <tr>\n",
              "      <th>0</th>\n",
              "      <td>8000061</td>\n",
              "      <td>2DT5</td>\n",
              "      <td>B</td>\n",
              "    </tr>\n",
              "    <tr>\n",
              "      <th>1</th>\n",
              "      <td>8000376</td>\n",
              "      <td>2FR1</td>\n",
              "      <td>A</td>\n",
              "    </tr>\n",
              "    <tr>\n",
              "      <th>2</th>\n",
              "      <td>8000376</td>\n",
              "      <td>6W7S</td>\n",
              "      <td>A</td>\n",
              "    </tr>\n",
              "    <tr>\n",
              "      <th>3</th>\n",
              "      <td>8000376</td>\n",
              "      <td>6WH9</td>\n",
              "      <td>A</td>\n",
              "    </tr>\n",
              "    <tr>\n",
              "      <th>4</th>\n",
              "      <td>8000376</td>\n",
              "      <td>6WH9</td>\n",
              "      <td>D</td>\n",
              "    </tr>\n",
              "    <tr>\n",
              "      <th>...</th>\n",
              "      <td>...</td>\n",
              "      <td>...</td>\n",
              "      <td>...</td>\n",
              "    </tr>\n",
              "    <tr>\n",
              "      <th>858211</th>\n",
              "      <td>8107712</td>\n",
              "      <td>7T7E</td>\n",
              "      <td>A</td>\n",
              "    </tr>\n",
              "    <tr>\n",
              "      <th>858212</th>\n",
              "      <td>8107712</td>\n",
              "      <td>7T7F</td>\n",
              "      <td>A</td>\n",
              "    </tr>\n",
              "    <tr>\n",
              "      <th>858213</th>\n",
              "      <td>8107712</td>\n",
              "      <td>7T7G</td>\n",
              "      <td>A</td>\n",
              "    </tr>\n",
              "    <tr>\n",
              "      <th>858214</th>\n",
              "      <td>8107715</td>\n",
              "      <td>7R1K</td>\n",
              "      <td>A</td>\n",
              "    </tr>\n",
              "    <tr>\n",
              "      <th>858215</th>\n",
              "      <td>8107716</td>\n",
              "      <td>7R1K</td>\n",
              "      <td>A</td>\n",
              "    </tr>\n",
              "  </tbody>\n",
              "</table>\n",
              "<p>858216 rows × 3 columns</p>\n",
              "</div>\n",
              "      <button class=\"colab-df-convert\" onclick=\"convertToInteractive('df-6647e63d-9426-4810-a2b5-2aedf6e1d0aa')\"\n",
              "              title=\"Convert this dataframe to an interactive table.\"\n",
              "              style=\"display:none;\">\n",
              "        \n",
              "  <svg xmlns=\"http://www.w3.org/2000/svg\" height=\"24px\"viewBox=\"0 0 24 24\"\n",
              "       width=\"24px\">\n",
              "    <path d=\"M0 0h24v24H0V0z\" fill=\"none\"/>\n",
              "    <path d=\"M18.56 5.44l.94 2.06.94-2.06 2.06-.94-2.06-.94-.94-2.06-.94 2.06-2.06.94zm-11 1L8.5 8.5l.94-2.06 2.06-.94-2.06-.94L8.5 2.5l-.94 2.06-2.06.94zm10 10l.94 2.06.94-2.06 2.06-.94-2.06-.94-.94-2.06-.94 2.06-2.06.94z\"/><path d=\"M17.41 7.96l-1.37-1.37c-.4-.4-.92-.59-1.43-.59-.52 0-1.04.2-1.43.59L10.3 9.45l-7.72 7.72c-.78.78-.78 2.05 0 2.83L4 21.41c.39.39.9.59 1.41.59.51 0 1.02-.2 1.41-.59l7.78-7.78 2.81-2.81c.8-.78.8-2.07 0-2.86zM5.41 20L4 18.59l7.72-7.72 1.47 1.35L5.41 20z\"/>\n",
              "  </svg>\n",
              "      </button>\n",
              "      \n",
              "  <style>\n",
              "    .colab-df-container {\n",
              "      display:flex;\n",
              "      flex-wrap:wrap;\n",
              "      gap: 12px;\n",
              "    }\n",
              "\n",
              "    .colab-df-convert {\n",
              "      background-color: #E8F0FE;\n",
              "      border: none;\n",
              "      border-radius: 50%;\n",
              "      cursor: pointer;\n",
              "      display: none;\n",
              "      fill: #1967D2;\n",
              "      height: 32px;\n",
              "      padding: 0 0 0 0;\n",
              "      width: 32px;\n",
              "    }\n",
              "\n",
              "    .colab-df-convert:hover {\n",
              "      background-color: #E2EBFA;\n",
              "      box-shadow: 0px 1px 2px rgba(60, 64, 67, 0.3), 0px 1px 3px 1px rgba(60, 64, 67, 0.15);\n",
              "      fill: #174EA6;\n",
              "    }\n",
              "\n",
              "    [theme=dark] .colab-df-convert {\n",
              "      background-color: #3B4455;\n",
              "      fill: #D2E3FC;\n",
              "    }\n",
              "\n",
              "    [theme=dark] .colab-df-convert:hover {\n",
              "      background-color: #434B5C;\n",
              "      box-shadow: 0px 1px 3px 1px rgba(0, 0, 0, 0.15);\n",
              "      filter: drop-shadow(0px 1px 2px rgba(0, 0, 0, 0.3));\n",
              "      fill: #FFFFFF;\n",
              "    }\n",
              "  </style>\n",
              "\n",
              "      <script>\n",
              "        const buttonEl =\n",
              "          document.querySelector('#df-6647e63d-9426-4810-a2b5-2aedf6e1d0aa button.colab-df-convert');\n",
              "        buttonEl.style.display =\n",
              "          google.colab.kernel.accessAllowed ? 'block' : 'none';\n",
              "\n",
              "        async function convertToInteractive(key) {\n",
              "          const element = document.querySelector('#df-6647e63d-9426-4810-a2b5-2aedf6e1d0aa');\n",
              "          const dataTable =\n",
              "            await google.colab.kernel.invokeFunction('convertToInteractive',\n",
              "                                                     [key], {});\n",
              "          if (!dataTable) return;\n",
              "\n",
              "          const docLinkHtml = 'Like what you see? Visit the ' +\n",
              "            '<a target=\"_blank\" href=https://colab.research.google.com/notebooks/data_table.ipynb>data table notebook</a>'\n",
              "            + ' to learn more about interactive tables.';\n",
              "          element.innerHTML = '';\n",
              "          dataTable['output_type'] = 'display_data';\n",
              "          await google.colab.output.renderOutput(dataTable, element);\n",
              "          const docLink = document.createElement('div');\n",
              "          docLink.innerHTML = docLinkHtml;\n",
              "          element.appendChild(docLink);\n",
              "        }\n",
              "      </script>\n",
              "    </div>\n",
              "  </div>\n",
              "  "
            ]
          },
          "metadata": {},
          "execution_count": 3
        }
      ]
    },
    {
      "cell_type": "code",
      "source": [
        "#checking duplicates of pdbid, pdbchain \n",
        "#scop[scop.duplicated(['pdbid', 'pdbchain'])]"
      ],
      "metadata": {
        "id": "ATUw43JKd1fS"
      },
      "execution_count": 4,
      "outputs": []
    },
    {
      "cell_type": "code",
      "source": [
        "scop1 = scop.drop_duplicates(subset=['pdbid', 'pdbchain'], keep='first')\n",
        "scop1.set_index(['pdbid'], inplace=True)\n",
        "scop1"
      ],
      "metadata": {
        "colab": {
          "base_uri": "https://localhost:8080/",
          "height": 455
        },
        "id": "S-z4u3POe0yX",
        "outputId": "eb52e99a-dd60-4a6d-a234-4a9258202b81"
      },
      "execution_count": 4,
      "outputs": [
        {
          "output_type": "execute_result",
          "data": {
            "text/plain": [
              "         domid pdbchain\n",
              "pdbid                  \n",
              "2DT5   8000061        B\n",
              "2FR1   8000376        A\n",
              "6W7S   8000376        A\n",
              "6WH9   8000376        A\n",
              "6WH9   8000376        D\n",
              "...        ...      ...\n",
              "7QI1   8107705        D\n",
              "7T7E   8107711        A\n",
              "7T7F   8107711        A\n",
              "7T7G   8107711        A\n",
              "7R1K   8107715        A\n",
              "\n",
              "[355061 rows x 2 columns]"
            ],
            "text/html": [
              "\n",
              "  <div id=\"df-771351ee-6c89-4a99-9dce-b52eac923b32\">\n",
              "    <div class=\"colab-df-container\">\n",
              "      <div>\n",
              "<style scoped>\n",
              "    .dataframe tbody tr th:only-of-type {\n",
              "        vertical-align: middle;\n",
              "    }\n",
              "\n",
              "    .dataframe tbody tr th {\n",
              "        vertical-align: top;\n",
              "    }\n",
              "\n",
              "    .dataframe thead th {\n",
              "        text-align: right;\n",
              "    }\n",
              "</style>\n",
              "<table border=\"1\" class=\"dataframe\">\n",
              "  <thead>\n",
              "    <tr style=\"text-align: right;\">\n",
              "      <th></th>\n",
              "      <th>domid</th>\n",
              "      <th>pdbchain</th>\n",
              "    </tr>\n",
              "    <tr>\n",
              "      <th>pdbid</th>\n",
              "      <th></th>\n",
              "      <th></th>\n",
              "    </tr>\n",
              "  </thead>\n",
              "  <tbody>\n",
              "    <tr>\n",
              "      <th>2DT5</th>\n",
              "      <td>8000061</td>\n",
              "      <td>B</td>\n",
              "    </tr>\n",
              "    <tr>\n",
              "      <th>2FR1</th>\n",
              "      <td>8000376</td>\n",
              "      <td>A</td>\n",
              "    </tr>\n",
              "    <tr>\n",
              "      <th>6W7S</th>\n",
              "      <td>8000376</td>\n",
              "      <td>A</td>\n",
              "    </tr>\n",
              "    <tr>\n",
              "      <th>6WH9</th>\n",
              "      <td>8000376</td>\n",
              "      <td>A</td>\n",
              "    </tr>\n",
              "    <tr>\n",
              "      <th>6WH9</th>\n",
              "      <td>8000376</td>\n",
              "      <td>D</td>\n",
              "    </tr>\n",
              "    <tr>\n",
              "      <th>...</th>\n",
              "      <td>...</td>\n",
              "      <td>...</td>\n",
              "    </tr>\n",
              "    <tr>\n",
              "      <th>7QI1</th>\n",
              "      <td>8107705</td>\n",
              "      <td>D</td>\n",
              "    </tr>\n",
              "    <tr>\n",
              "      <th>7T7E</th>\n",
              "      <td>8107711</td>\n",
              "      <td>A</td>\n",
              "    </tr>\n",
              "    <tr>\n",
              "      <th>7T7F</th>\n",
              "      <td>8107711</td>\n",
              "      <td>A</td>\n",
              "    </tr>\n",
              "    <tr>\n",
              "      <th>7T7G</th>\n",
              "      <td>8107711</td>\n",
              "      <td>A</td>\n",
              "    </tr>\n",
              "    <tr>\n",
              "      <th>7R1K</th>\n",
              "      <td>8107715</td>\n",
              "      <td>A</td>\n",
              "    </tr>\n",
              "  </tbody>\n",
              "</table>\n",
              "<p>355061 rows × 2 columns</p>\n",
              "</div>\n",
              "      <button class=\"colab-df-convert\" onclick=\"convertToInteractive('df-771351ee-6c89-4a99-9dce-b52eac923b32')\"\n",
              "              title=\"Convert this dataframe to an interactive table.\"\n",
              "              style=\"display:none;\">\n",
              "        \n",
              "  <svg xmlns=\"http://www.w3.org/2000/svg\" height=\"24px\"viewBox=\"0 0 24 24\"\n",
              "       width=\"24px\">\n",
              "    <path d=\"M0 0h24v24H0V0z\" fill=\"none\"/>\n",
              "    <path d=\"M18.56 5.44l.94 2.06.94-2.06 2.06-.94-2.06-.94-.94-2.06-.94 2.06-2.06.94zm-11 1L8.5 8.5l.94-2.06 2.06-.94-2.06-.94L8.5 2.5l-.94 2.06-2.06.94zm10 10l.94 2.06.94-2.06 2.06-.94-2.06-.94-.94-2.06-.94 2.06-2.06.94z\"/><path d=\"M17.41 7.96l-1.37-1.37c-.4-.4-.92-.59-1.43-.59-.52 0-1.04.2-1.43.59L10.3 9.45l-7.72 7.72c-.78.78-.78 2.05 0 2.83L4 21.41c.39.39.9.59 1.41.59.51 0 1.02-.2 1.41-.59l7.78-7.78 2.81-2.81c.8-.78.8-2.07 0-2.86zM5.41 20L4 18.59l7.72-7.72 1.47 1.35L5.41 20z\"/>\n",
              "  </svg>\n",
              "      </button>\n",
              "      \n",
              "  <style>\n",
              "    .colab-df-container {\n",
              "      display:flex;\n",
              "      flex-wrap:wrap;\n",
              "      gap: 12px;\n",
              "    }\n",
              "\n",
              "    .colab-df-convert {\n",
              "      background-color: #E8F0FE;\n",
              "      border: none;\n",
              "      border-radius: 50%;\n",
              "      cursor: pointer;\n",
              "      display: none;\n",
              "      fill: #1967D2;\n",
              "      height: 32px;\n",
              "      padding: 0 0 0 0;\n",
              "      width: 32px;\n",
              "    }\n",
              "\n",
              "    .colab-df-convert:hover {\n",
              "      background-color: #E2EBFA;\n",
              "      box-shadow: 0px 1px 2px rgba(60, 64, 67, 0.3), 0px 1px 3px 1px rgba(60, 64, 67, 0.15);\n",
              "      fill: #174EA6;\n",
              "    }\n",
              "\n",
              "    [theme=dark] .colab-df-convert {\n",
              "      background-color: #3B4455;\n",
              "      fill: #D2E3FC;\n",
              "    }\n",
              "\n",
              "    [theme=dark] .colab-df-convert:hover {\n",
              "      background-color: #434B5C;\n",
              "      box-shadow: 0px 1px 3px 1px rgba(0, 0, 0, 0.15);\n",
              "      filter: drop-shadow(0px 1px 2px rgba(0, 0, 0, 0.3));\n",
              "      fill: #FFFFFF;\n",
              "    }\n",
              "  </style>\n",
              "\n",
              "      <script>\n",
              "        const buttonEl =\n",
              "          document.querySelector('#df-771351ee-6c89-4a99-9dce-b52eac923b32 button.colab-df-convert');\n",
              "        buttonEl.style.display =\n",
              "          google.colab.kernel.accessAllowed ? 'block' : 'none';\n",
              "\n",
              "        async function convertToInteractive(key) {\n",
              "          const element = document.querySelector('#df-771351ee-6c89-4a99-9dce-b52eac923b32');\n",
              "          const dataTable =\n",
              "            await google.colab.kernel.invokeFunction('convertToInteractive',\n",
              "                                                     [key], {});\n",
              "          if (!dataTable) return;\n",
              "\n",
              "          const docLinkHtml = 'Like what you see? Visit the ' +\n",
              "            '<a target=\"_blank\" href=https://colab.research.google.com/notebooks/data_table.ipynb>data table notebook</a>'\n",
              "            + ' to learn more about interactive tables.';\n",
              "          element.innerHTML = '';\n",
              "          dataTable['output_type'] = 'display_data';\n",
              "          await google.colab.output.renderOutput(dataTable, element);\n",
              "          const docLink = document.createElement('div');\n",
              "          docLink.innerHTML = docLinkHtml;\n",
              "          element.appendChild(docLink);\n",
              "        }\n",
              "      </script>\n",
              "    </div>\n",
              "  </div>\n",
              "  "
            ]
          },
          "metadata": {},
          "execution_count": 4
        }
      ]
    },
    {
      "cell_type": "markdown",
      "source": [
        "https://files.rcsb.org/download/2FR1.pdb\n"
      ],
      "metadata": {
        "id": "oXi9leWVc4K0"
      }
    },
    {
      "cell_type": "code",
      "source": [
        "%mkdir /content/pdbs\n",
        "%mkdir /content/ca_csv"
      ],
      "metadata": {
        "id": "-FF_0iCcdZwm"
      },
      "execution_count": 5,
      "outputs": []
    },
    {
      "cell_type": "code",
      "source": [
        "pd_list = list(scop1.index)\n",
        "for i in range(10):\n",
        "  pd_id = pd_list[i]\n",
        "  #pd_chain = scop['pdbchain'][i]\n",
        "  \n",
        "  print(i, pd_id)\n",
        "  !wget -q https://files.rcsb.org/download/{pd_id}.pdb -O /content/pdbs/{pd_id}.pdb"
      ],
      "metadata": {
        "colab": {
          "base_uri": "https://localhost:8080/"
        },
        "id": "A3sDUtwYgF9a",
        "outputId": "119da669-87d1-4e2a-be6f-e1c467979f34"
      },
      "execution_count": 6,
      "outputs": [
        {
          "output_type": "stream",
          "name": "stdout",
          "text": [
            "0 2DT5\n",
            "1 2FR1\n",
            "2 6W7S\n",
            "3 6WH9\n",
            "4 6WH9\n",
            "5 6WH9\n",
            "6 1A9Y\n",
            "7 1A9Z\n",
            "8 1KVQ\n",
            "9 1KVR\n"
          ]
        }
      ]
    },
    {
      "cell_type": "markdown",
      "source": [
        "The first element \"atom\" means this relates to an actual atom in the protein. The 1 relates to a general count, N relates to the type of atom, \"MET\" is the name of the residue, \"A\" relates to the the type of chain, 1 (the second \"1\") is the atom count and then the next 3 numbers are the x-y-z positions in space.\n",
        "\n"
      ],
      "metadata": {
        "id": "GGMbjypliRJ8"
      }
    },
    {
      "cell_type": "markdown",
      "source": [
        "#Understanding\n",
        "\n",
        "atom | count | type of atom | ressidue name | chain | atom count | x | y  | z\n",
        "--- | --- | --- | --- | --- | --- | --- | --- | ---\n",
        "ATOM | 1 | N | MET | A | 1 | 63.645 | 97.355 | 31.526 | 1.00 | 33.80 | N"
      ],
      "metadata": {
        "id": "-bKziBY3hXG3"
      }
    },
    {
      "cell_type": "code",
      "source": [
        "def is_atom_record(record):\n",
        "  if record.startswith('ATOM'): \n",
        "    return True;\n",
        "  return False;\n",
        "\n",
        "def is_intended_chain(record, chain):\n",
        "  if record[21] == chain: \n",
        "    return True\n",
        "  return False\n",
        "\n",
        "def is_chain_ter_record(record, chain):\n",
        "  if record[21] == chain and record.startswith(\"TER\"): \n",
        "    return True\n",
        "  return False\n",
        "\n",
        "def is_alt_record(record):\n",
        "  if record[16] == \" \": \n",
        "    return False\n",
        "  return True\n",
        "  \n",
        "def is_ca_atom(record):\n",
        "  if record[12:15].strip() == \"CA\":\n",
        "    return True\n",
        "  return False\n",
        "\n",
        "def parse_atom_records(record):\n",
        "  atom = record[12:16].strip()\n",
        "  residue = record[17:20].strip()\n",
        "  chain = record[21].strip()\n",
        "  seq_pos = record[22:26].strip()\n",
        "  x = record[30:38].strip()\n",
        "  y = record[38:46].strip()\n",
        "  z = record[46:54].strip()\n",
        "  return atom, residue, chain, seq_pos, x, y, z\n",
        "\n",
        "def parse_pdb(contents, chainl): #chain: list\n",
        "  ca_records = {}\n",
        "  pos = 0\n",
        "  for i in range(len(chainl)):\n",
        "    for line in contents:\n",
        "      if line.startswith(\"ENDMDL\"): break;\n",
        "      if is_chain_ter_record(line, chainl[i]): break;\n",
        "\n",
        "      if not is_atom_record(line): continue\n",
        "      if not is_intended_chain(line, chainl[i]): continue\n",
        "      if is_alt_record(line): continue \n",
        "      if not is_ca_atom(line): continue\n",
        "\n",
        "      (atom, residue, chain, rel_pos, x, y, z) = parse_atom_records(line)\n",
        "      ca_records[pos] = atom, residue, chain, rel_pos, x, y, z\n",
        "      pos+=1\n",
        "  return ca_records\n",
        "\n",
        "def dump_records_to_csv_file(file_name, record_dict):\n",
        "  file = open(file_name, 'w')\n",
        "  for key in record_dict.keys():\n",
        "    (atom, residue, chain, pos, x, y, z) = record_dict[key]\n",
        "    file.write(f\"%s,%s,%s,%s,%s,%s,%s\\n\"%(atom, residue, chain, pos, x, y, z))\n"
      ],
      "metadata": {
        "id": "h8lM9x9mQcwI"
      },
      "execution_count": 7,
      "outputs": []
    },
    {
      "cell_type": "code",
      "source": [
        "scop1['pdbchain']['2DT5']"
      ],
      "metadata": {
        "colab": {
          "base_uri": "https://localhost:8080/",
          "height": 35
        },
        "id": "5TXuCwP-k7a6",
        "outputId": "40ebf423-6c68-455b-94fa-f8cce5f12dc7"
      },
      "execution_count": 8,
      "outputs": [
        {
          "output_type": "execute_result",
          "data": {
            "text/plain": [
              "'B'"
            ],
            "application/vnd.google.colaboratory.intrinsic+json": {
              "type": "string"
            }
          },
          "metadata": {},
          "execution_count": 8
        }
      ]
    },
    {
      "cell_type": "code",
      "source": [
        "chain = list(scop1['pdbchain']['6WH9'])\n",
        "print(chain)\n",
        "print(len(chain))\n",
        "print(type(chain))"
      ],
      "metadata": {
        "colab": {
          "base_uri": "https://localhost:8080/"
        },
        "id": "5Y9Pt2Eeoege",
        "outputId": "4a73a875-b810-4fa9-c120-2acdc846fe84"
      },
      "execution_count": 9,
      "outputs": [
        {
          "output_type": "stream",
          "name": "stdout",
          "text": [
            "['A', 'D', 'G']\n",
            "3\n",
            "<class 'list'>\n"
          ]
        }
      ]
    },
    {
      "cell_type": "code",
      "source": [
        "pdb_list = glob.glob('/content/pdbs/*')\n",
        "for i in range(len(pdb_list)):\n",
        "  csv_name = pdb_list[i].split('/')[3].split('.')[0]\n",
        "  chainl = list(scop1['pdbchain'][csv_name])\n",
        "  \n",
        "  print(\"i: \", i, csv_name, chainl)\n",
        "  with open(pdb_list[i]) as f: \n",
        "    contents = f.readlines() \n",
        "  ca_records = parse_pdb(contents, chainl) \n",
        "  dump_records_to_csv_file(f'/content/ca_csv/{csv_name}.csv', ca_records)\n",
        "\n"
      ],
      "metadata": {
        "colab": {
          "base_uri": "https://localhost:8080/"
        },
        "id": "71ZW5URgQzax",
        "outputId": "aabe2cfa-22ed-4f5e-caad-d40393b0f7a0"
      },
      "execution_count": 10,
      "outputs": [
        {
          "output_type": "stream",
          "name": "stdout",
          "text": [
            "i:  0 1A9Z ['A']\n",
            "i:  1 1KVR ['A']\n",
            "i:  2 6WH9 ['A', 'D', 'G']\n",
            "i:  3 1A9Y ['A']\n",
            "i:  4 6W7S ['A']\n",
            "i:  5 2FR1 ['A']\n",
            "i:  6 1KVQ ['A']\n",
            "i:  7 2DT5 ['B']\n"
          ]
        }
      ]
    },
    {
      "cell_type": "code",
      "source": [
        ""
      ],
      "metadata": {
        "id": "K4dOwd0IWNAF"
      },
      "execution_count": 12,
      "outputs": []
    }
  ]
}