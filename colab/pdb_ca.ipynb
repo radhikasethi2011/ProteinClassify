{
  "nbformat": 4,
  "nbformat_minor": 0,
  "metadata": {
    "colab": {
      "name": "pdb_ca.ipynb",
      "provenance": [],
      "collapsed_sections": [],
      "authorship_tag": "ABX9TyNCYgocbPGCOvcaUZ5ZG/48",
      "include_colab_link": true
    },
    "kernelspec": {
      "name": "python3",
      "display_name": "Python 3"
    },
    "language_info": {
      "name": "python"
    }
  },
  "cells": [
    {
      "cell_type": "markdown",
      "metadata": {
        "id": "view-in-github",
        "colab_type": "text"
      },
      "source": [
        "<a href=\"https://colab.research.google.com/github/radhikasethi2011/ProteinClassify/blob/main/colab/pdb_ca.ipynb\" target=\"_parent\"><img src=\"https://colab.research.google.com/assets/colab-badge.svg\" alt=\"Open In Colab\"/></a>"
      ]
    },
    {
      "cell_type": "code",
      "execution_count": 1,
      "metadata": {
        "colab": {
          "base_uri": "https://localhost:8080/"
        },
        "id": "58fDI3UaZ59e",
        "outputId": "0e38aff1-db71-424d-edbd-5568ddbddeb3"
      },
      "outputs": [
        {
          "output_type": "stream",
          "name": "stdout",
          "text": [
            "Cloning into 'ProteinClassify'...\n",
            "remote: Enumerating objects: 6, done.\u001b[K\n",
            "remote: Counting objects: 100% (6/6), done.\u001b[K\n",
            "remote: Compressing objects: 100% (4/4), done.\u001b[K\n",
            "remote: Total 6 (delta 0), reused 0 (delta 0), pack-reused 0\u001b[K\n",
            "Unpacking objects: 100% (6/6), done.\n"
          ]
        }
      ],
      "source": [
        "!git clone https://github.com/radhikasethi2011/ProteinClassify.git"
      ]
    },
    {
      "cell_type": "code",
      "source": [
        "%pip install BioPython\n",
        "import pandas as pd\n",
        "import os\n",
        "import glob as glob\n",
        "from Bio.PDB import *"
      ],
      "metadata": {
        "colab": {
          "base_uri": "https://localhost:8080/"
        },
        "id": "OBDQ4ThRapAN",
        "outputId": "b85271f9-552e-430c-a4e9-48a36a935591"
      },
      "execution_count": 2,
      "outputs": [
        {
          "output_type": "stream",
          "name": "stdout",
          "text": [
            "Looking in indexes: https://pypi.org/simple, https://us-python.pkg.dev/colab-wheels/public/simple/\n",
            "Collecting BioPython\n",
            "  Downloading biopython-1.79-cp37-cp37m-manylinux_2_5_x86_64.manylinux1_x86_64.whl (2.3 MB)\n",
            "\u001b[K     |████████████████████████████████| 2.3 MB 4.4 MB/s \n",
            "\u001b[?25hRequirement already satisfied: numpy in /usr/local/lib/python3.7/dist-packages (from BioPython) (1.21.6)\n",
            "Installing collected packages: BioPython\n",
            "Successfully installed BioPython-1.79\n"
          ]
        }
      ]
    },
    {
      "cell_type": "code",
      "source": [
        "cols = ['domid','pdbid', 'pdbchain']\n",
        "scop = pd.read_csv('/content/ProteinClassify/scop-represented-structures-latest.txt', header = None, skiprows=6, names=cols, delimiter = ' ')\n",
        "scop"
      ],
      "metadata": {
        "colab": {
          "base_uri": "https://localhost:8080/",
          "height": 424
        },
        "id": "4AwVXdHJaw9W",
        "outputId": "ede9bd12-5124-4dfa-c6a1-c1f32cecc77b"
      },
      "execution_count": 3,
      "outputs": [
        {
          "output_type": "execute_result",
          "data": {
            "text/plain": [
              "          domid pdbid pdbchain\n",
              "0       8000061  2DT5        B\n",
              "1       8000376  2FR1        A\n",
              "2       8000376  6W7S        A\n",
              "3       8000376  6WH9        A\n",
              "4       8000376  6WH9        D\n",
              "...         ...   ...      ...\n",
              "858211  8107712  7T7E        A\n",
              "858212  8107712  7T7F        A\n",
              "858213  8107712  7T7G        A\n",
              "858214  8107715  7R1K        A\n",
              "858215  8107716  7R1K        A\n",
              "\n",
              "[858216 rows x 3 columns]"
            ],
            "text/html": [
              "\n",
              "  <div id=\"df-46c5fe6e-0e9a-4c31-900f-0df329f672e5\">\n",
              "    <div class=\"colab-df-container\">\n",
              "      <div>\n",
              "<style scoped>\n",
              "    .dataframe tbody tr th:only-of-type {\n",
              "        vertical-align: middle;\n",
              "    }\n",
              "\n",
              "    .dataframe tbody tr th {\n",
              "        vertical-align: top;\n",
              "    }\n",
              "\n",
              "    .dataframe thead th {\n",
              "        text-align: right;\n",
              "    }\n",
              "</style>\n",
              "<table border=\"1\" class=\"dataframe\">\n",
              "  <thead>\n",
              "    <tr style=\"text-align: right;\">\n",
              "      <th></th>\n",
              "      <th>domid</th>\n",
              "      <th>pdbid</th>\n",
              "      <th>pdbchain</th>\n",
              "    </tr>\n",
              "  </thead>\n",
              "  <tbody>\n",
              "    <tr>\n",
              "      <th>0</th>\n",
              "      <td>8000061</td>\n",
              "      <td>2DT5</td>\n",
              "      <td>B</td>\n",
              "    </tr>\n",
              "    <tr>\n",
              "      <th>1</th>\n",
              "      <td>8000376</td>\n",
              "      <td>2FR1</td>\n",
              "      <td>A</td>\n",
              "    </tr>\n",
              "    <tr>\n",
              "      <th>2</th>\n",
              "      <td>8000376</td>\n",
              "      <td>6W7S</td>\n",
              "      <td>A</td>\n",
              "    </tr>\n",
              "    <tr>\n",
              "      <th>3</th>\n",
              "      <td>8000376</td>\n",
              "      <td>6WH9</td>\n",
              "      <td>A</td>\n",
              "    </tr>\n",
              "    <tr>\n",
              "      <th>4</th>\n",
              "      <td>8000376</td>\n",
              "      <td>6WH9</td>\n",
              "      <td>D</td>\n",
              "    </tr>\n",
              "    <tr>\n",
              "      <th>...</th>\n",
              "      <td>...</td>\n",
              "      <td>...</td>\n",
              "      <td>...</td>\n",
              "    </tr>\n",
              "    <tr>\n",
              "      <th>858211</th>\n",
              "      <td>8107712</td>\n",
              "      <td>7T7E</td>\n",
              "      <td>A</td>\n",
              "    </tr>\n",
              "    <tr>\n",
              "      <th>858212</th>\n",
              "      <td>8107712</td>\n",
              "      <td>7T7F</td>\n",
              "      <td>A</td>\n",
              "    </tr>\n",
              "    <tr>\n",
              "      <th>858213</th>\n",
              "      <td>8107712</td>\n",
              "      <td>7T7G</td>\n",
              "      <td>A</td>\n",
              "    </tr>\n",
              "    <tr>\n",
              "      <th>858214</th>\n",
              "      <td>8107715</td>\n",
              "      <td>7R1K</td>\n",
              "      <td>A</td>\n",
              "    </tr>\n",
              "    <tr>\n",
              "      <th>858215</th>\n",
              "      <td>8107716</td>\n",
              "      <td>7R1K</td>\n",
              "      <td>A</td>\n",
              "    </tr>\n",
              "  </tbody>\n",
              "</table>\n",
              "<p>858216 rows × 3 columns</p>\n",
              "</div>\n",
              "      <button class=\"colab-df-convert\" onclick=\"convertToInteractive('df-46c5fe6e-0e9a-4c31-900f-0df329f672e5')\"\n",
              "              title=\"Convert this dataframe to an interactive table.\"\n",
              "              style=\"display:none;\">\n",
              "        \n",
              "  <svg xmlns=\"http://www.w3.org/2000/svg\" height=\"24px\"viewBox=\"0 0 24 24\"\n",
              "       width=\"24px\">\n",
              "    <path d=\"M0 0h24v24H0V0z\" fill=\"none\"/>\n",
              "    <path d=\"M18.56 5.44l.94 2.06.94-2.06 2.06-.94-2.06-.94-.94-2.06-.94 2.06-2.06.94zm-11 1L8.5 8.5l.94-2.06 2.06-.94-2.06-.94L8.5 2.5l-.94 2.06-2.06.94zm10 10l.94 2.06.94-2.06 2.06-.94-2.06-.94-.94-2.06-.94 2.06-2.06.94z\"/><path d=\"M17.41 7.96l-1.37-1.37c-.4-.4-.92-.59-1.43-.59-.52 0-1.04.2-1.43.59L10.3 9.45l-7.72 7.72c-.78.78-.78 2.05 0 2.83L4 21.41c.39.39.9.59 1.41.59.51 0 1.02-.2 1.41-.59l7.78-7.78 2.81-2.81c.8-.78.8-2.07 0-2.86zM5.41 20L4 18.59l7.72-7.72 1.47 1.35L5.41 20z\"/>\n",
              "  </svg>\n",
              "      </button>\n",
              "      \n",
              "  <style>\n",
              "    .colab-df-container {\n",
              "      display:flex;\n",
              "      flex-wrap:wrap;\n",
              "      gap: 12px;\n",
              "    }\n",
              "\n",
              "    .colab-df-convert {\n",
              "      background-color: #E8F0FE;\n",
              "      border: none;\n",
              "      border-radius: 50%;\n",
              "      cursor: pointer;\n",
              "      display: none;\n",
              "      fill: #1967D2;\n",
              "      height: 32px;\n",
              "      padding: 0 0 0 0;\n",
              "      width: 32px;\n",
              "    }\n",
              "\n",
              "    .colab-df-convert:hover {\n",
              "      background-color: #E2EBFA;\n",
              "      box-shadow: 0px 1px 2px rgba(60, 64, 67, 0.3), 0px 1px 3px 1px rgba(60, 64, 67, 0.15);\n",
              "      fill: #174EA6;\n",
              "    }\n",
              "\n",
              "    [theme=dark] .colab-df-convert {\n",
              "      background-color: #3B4455;\n",
              "      fill: #D2E3FC;\n",
              "    }\n",
              "\n",
              "    [theme=dark] .colab-df-convert:hover {\n",
              "      background-color: #434B5C;\n",
              "      box-shadow: 0px 1px 3px 1px rgba(0, 0, 0, 0.15);\n",
              "      filter: drop-shadow(0px 1px 2px rgba(0, 0, 0, 0.3));\n",
              "      fill: #FFFFFF;\n",
              "    }\n",
              "  </style>\n",
              "\n",
              "      <script>\n",
              "        const buttonEl =\n",
              "          document.querySelector('#df-46c5fe6e-0e9a-4c31-900f-0df329f672e5 button.colab-df-convert');\n",
              "        buttonEl.style.display =\n",
              "          google.colab.kernel.accessAllowed ? 'block' : 'none';\n",
              "\n",
              "        async function convertToInteractive(key) {\n",
              "          const element = document.querySelector('#df-46c5fe6e-0e9a-4c31-900f-0df329f672e5');\n",
              "          const dataTable =\n",
              "            await google.colab.kernel.invokeFunction('convertToInteractive',\n",
              "                                                     [key], {});\n",
              "          if (!dataTable) return;\n",
              "\n",
              "          const docLinkHtml = 'Like what you see? Visit the ' +\n",
              "            '<a target=\"_blank\" href=https://colab.research.google.com/notebooks/data_table.ipynb>data table notebook</a>'\n",
              "            + ' to learn more about interactive tables.';\n",
              "          element.innerHTML = '';\n",
              "          dataTable['output_type'] = 'display_data';\n",
              "          await google.colab.output.renderOutput(dataTable, element);\n",
              "          const docLink = document.createElement('div');\n",
              "          docLink.innerHTML = docLinkHtml;\n",
              "          element.appendChild(docLink);\n",
              "        }\n",
              "      </script>\n",
              "    </div>\n",
              "  </div>\n",
              "  "
            ]
          },
          "metadata": {},
          "execution_count": 3
        }
      ]
    },
    {
      "cell_type": "markdown",
      "source": [
        "https://files.rcsb.org/download/2FR1.pdb\n"
      ],
      "metadata": {
        "id": "oXi9leWVc4K0"
      }
    },
    {
      "cell_type": "code",
      "source": [
        "%mkdir /content/pdb_files_download\n",
        "%mkdir /content/pdb_ca_output\n",
        "%mkdir /content/pdb_ca_csv"
      ],
      "metadata": {
        "id": "-FF_0iCcdZwm"
      },
      "execution_count": 4,
      "outputs": []
    },
    {
      "cell_type": "markdown",
      "source": [
        "running for first 5 "
      ],
      "metadata": {
        "id": "J3CdOtd25Rw_"
      }
    },
    {
      "cell_type": "code",
      "source": [
        "for i in range(5):\n",
        "  pd_id = scop['pdbid'][i]\n",
        "  pd_chain = scop['pdbchain'][i]\n",
        "  !wget -P /content/pdb_files_download  https://files.rcsb.org/download/{pd_id}.pdb -O /content/pdb_files_download/{pd_id}_{pd_chain}.pdb"
      ],
      "metadata": {
        "colab": {
          "base_uri": "https://localhost:8080/"
        },
        "id": "A3sDUtwYgF9a",
        "outputId": "6c98781e-5a6d-4053-abbb-de11a85c19d9"
      },
      "execution_count": 5,
      "outputs": [
        {
          "output_type": "stream",
          "name": "stdout",
          "text": [
            "--2022-06-04 08:46:44--  https://files.rcsb.org/download/2DT5.pdb\n",
            "Resolving files.rcsb.org (files.rcsb.org)... 132.249.210.134\n",
            "Connecting to files.rcsb.org (files.rcsb.org)|132.249.210.134|:443... connected.\n",
            "HTTP request sent, awaiting response... 200 OK\n",
            "Length: unspecified [application/octet-stream]\n",
            "Saving to: ‘/content/pdb_files_download/2DT5_B.pdb’\n",
            "\n",
            "2DT5_B.pdb              [        <=>         ] 340.06K   167KB/s    in 2.0s    \n",
            "\n",
            "2022-06-04 08:46:47 (167 KB/s) - ‘/content/pdb_files_download/2DT5_B.pdb’ saved [348219]\n",
            "\n",
            "--2022-06-04 08:46:47--  https://files.rcsb.org/download/2FR1.pdb\n",
            "Resolving files.rcsb.org (files.rcsb.org)... 132.249.210.134\n",
            "Connecting to files.rcsb.org (files.rcsb.org)|132.249.210.134|:443... connected.\n",
            "HTTP request sent, awaiting response... 200 OK\n",
            "Length: unspecified [application/octet-stream]\n",
            "Saving to: ‘/content/pdb_files_download/2FR1_A.pdb’\n",
            "\n",
            "2FR1_A.pdb              [        <=>         ] 328.59K   154KB/s    in 2.1s    \n",
            "\n",
            "2022-06-04 08:46:50 (154 KB/s) - ‘/content/pdb_files_download/2FR1_A.pdb’ saved [336474]\n",
            "\n",
            "--2022-06-04 08:46:50--  https://files.rcsb.org/download/6W7S.pdb\n",
            "Resolving files.rcsb.org (files.rcsb.org)... 132.249.210.134\n",
            "Connecting to files.rcsb.org (files.rcsb.org)|132.249.210.134|:443... connected.\n",
            "HTTP request sent, awaiting response... 200 OK\n",
            "Length: unspecified [application/octet-stream]\n",
            "Saving to: ‘/content/pdb_files_download/6W7S_A.pdb’\n",
            "\n",
            "6W7S_A.pdb              [ <=>                ] 614.46K  34.5KB/s    in 10s     \n",
            "\n",
            "2022-06-04 08:47:01 (61.2 KB/s) - ‘/content/pdb_files_download/6W7S_A.pdb’ saved [629208]\n",
            "\n",
            "--2022-06-04 08:47:01--  https://files.rcsb.org/download/6WH9.pdb\n",
            "Resolving files.rcsb.org (files.rcsb.org)... 132.249.210.134\n",
            "Connecting to files.rcsb.org (files.rcsb.org)|132.249.210.134|:443... connected.\n",
            "HTTP request sent, awaiting response... 200 OK\n",
            "Length: unspecified [application/octet-stream]\n",
            "Saving to: ‘/content/pdb_files_download/6WH9_A.pdb’\n",
            "\n",
            "6WH9_A.pdb              [     <=>            ]   3.19M  42.1KB/s    in 79s     \n",
            "\n",
            "2022-06-04 08:48:20 (41.3 KB/s) - ‘/content/pdb_files_download/6WH9_A.pdb’ saved [3345300]\n",
            "\n",
            "--2022-06-04 08:48:20--  https://files.rcsb.org/download/6WH9.pdb\n",
            "Resolving files.rcsb.org (files.rcsb.org)... 132.249.210.142\n",
            "Connecting to files.rcsb.org (files.rcsb.org)|132.249.210.142|:443... connected.\n",
            "HTTP request sent, awaiting response... 200 OK\n",
            "Length: unspecified [application/octet-stream]\n",
            "Saving to: ‘/content/pdb_files_download/6WH9_D.pdb’\n",
            "\n",
            "6WH9_D.pdb              [    <=>             ]   3.19M  3.38MB/s    in 0.9s    \n",
            "\n",
            "2022-06-04 08:48:22 (3.38 MB/s) - ‘/content/pdb_files_download/6WH9_D.pdb’ saved [3345300]\n",
            "\n"
          ]
        }
      ]
    },
    {
      "cell_type": "markdown",
      "source": [
        "The first element \"atom\" means this relates to an actual atom in the protein. The 1 relates to a general count, N relates to the type of atom, \"MET\" is the name of the residue, \"A\" relates to the the type of chain, 1 (the second \"1\") is the atom count and then the next 3 numbers are the x-y-z positions in space.\n",
        "\n"
      ],
      "metadata": {
        "id": "GGMbjypliRJ8"
      }
    },
    {
      "cell_type": "markdown",
      "source": [
        "#Understanding\n",
        "\n",
        "atom | count | type of atom | ressidue name | chain | atom count | x | y  | z\n",
        "--- | --- | --- | --- | --- | --- | --- | --- | ---\n",
        "ATOM | 1 | N | MET | A | 1 | 63.645 | 97.355 | 31.526 | 1.00 | 33.80 | N"
      ],
      "metadata": {
        "id": "-bKziBY3hXG3"
      }
    },
    {
      "cell_type": "code",
      "source": [
        "#parser=PDBParser(PERMISSIVE = True, QUIET = True)\n",
        "#data = parser.get_structure('test', '/content/pdb_files/2FR1_A.pdb')\n",
        "#print(\"data: \", data)\n",
        "#print(\"data type: \", type(data))\n",
        "#print(\"data keys: \", data.header.keys())\n",
        "#print(\"data name: \", data.header[\"name\"]) \n",
        "#print(\"release date: \", data.header[\"release_date\"])\n",
        "#print(\"resolution: \",data.header[\"resolution\"])\n",
        "#model = data.get_models()\n",
        "#models = list(model)\n",
        "#chains = list(models[0].get_chains()) \n",
        "#print(\"Chains: \", list(models[0].get_chains()))\n",
        "#residue = list(chains[0].get_residues())\n",
        "#print(\"len residue: \", len(residue))\n",
        "#atoms = list(residue[0].get_atoms()) \n",
        "#print(\"atoms: \", atoms)"
      ],
      "metadata": {
        "id": "QeYrJA5viVoK"
      },
      "execution_count": 6,
      "outputs": []
    },
    {
      "cell_type": "code",
      "source": [
        "def parse_pdb(pdbpath):\n",
        "  parser=PDBParser()\n",
        "  io = PDBIO()\n",
        "  data = parser.get_structure('test', pdbpath)\n",
        "  data_resolution = data.header[\"resolution\"]\n",
        "  data_keywords = data.header[\"keywords\"]\n",
        "\n",
        "  print(\"Sample name: \" + str(data))\n",
        "  print(\"Resolution: \" + str(data_resolution))\n",
        "  print(\"Keywords: \" + str(data_keywords))\n",
        "  print(\"Model: \" + str(data[0]))\n",
        "\n",
        "  #initialize IO \n",
        "  io=PDBIO()\n",
        "\n",
        "  #custom select\n",
        "  class Select():\n",
        "      def accept_model(self, model):\n",
        "          return True\n",
        "      def accept_chain(self, chain):\n",
        "          return True\n",
        "      def accept_residue(self, residue):\n",
        "          return True       \n",
        "      def accept_atom(self, atom):\n",
        "          #print(\"atom id:\" + atom.get_id())\n",
        "          #print(\"atom name:\" + atom.get_name())\n",
        "          if atom.get_name() == 'CA':   \n",
        "              return True\n",
        "          else:\n",
        "              return False\n",
        "\n",
        "  #write to output file\n",
        "  io.set_structure(data)\n",
        "  filename = pdbpath.split('/')[3].split('.')[0]\n",
        "  io.save(f\"/content/pdb_ca_output/{filename}.txt\", Select())\n",
        "  return f'/content/pdb_ca_output/{filename}.txt'"
      ],
      "metadata": {
        "id": "avH5PA97dmrA"
      },
      "execution_count": 8,
      "outputs": []
    },
    {
      "cell_type": "markdown",
      "source": [
        "PDB parsing and extraction of the following items:\n",
        "Amino acid, chain, position number, CA, x, y, z\n"
      ],
      "metadata": {
        "id": "img_pHuukCQe"
      }
    },
    {
      "cell_type": "code",
      "source": [
        "#str1 = '/content/pdb_files_download/6WH9_A.pdb'\n",
        "#str1.split('/')[3].split('.')[0]"
      ],
      "metadata": {
        "colab": {
          "base_uri": "https://localhost:8080/",
          "height": 35
        },
        "id": "A7Z0PkNN1pv2",
        "outputId": "b0d4a3f1-4f67-4151-c8cb-f7aee3d82750"
      },
      "execution_count": 14,
      "outputs": [
        {
          "output_type": "execute_result",
          "data": {
            "text/plain": [
              "'6WH9_A'"
            ],
            "application/vnd.google.colaboratory.intrinsic+json": {
              "type": "string"
            }
          },
          "metadata": {},
          "execution_count": 14
        }
      ]
    },
    {
      "cell_type": "code",
      "source": [
        "#str1 = '/content/pdb_ca_output/6WH9_A.pdb'\n",
        "#str1.split('/')[3].split('.')[0]"
      ],
      "metadata": {
        "colab": {
          "base_uri": "https://localhost:8080/",
          "height": 35
        },
        "id": "HVOaaRgE4sGh",
        "outputId": "6b623e51-dd3c-4ee1-d5c1-c1365c945879"
      },
      "execution_count": 15,
      "outputs": [
        {
          "output_type": "execute_result",
          "data": {
            "text/plain": [
              "'6WH9_A'"
            ],
            "application/vnd.google.colaboratory.intrinsic+json": {
              "type": "string"
            }
          },
          "metadata": {},
          "execution_count": 15
        }
      ]
    },
    {
      "cell_type": "code",
      "source": [
        "def clean_pdb(pdb_txt):\n",
        "  cols = ['atom','general_count', 'type', 'amino', 'chain', 'x','y','z', '1', '2', '3']\n",
        "  ca_df = pd.read_csv(pdb_txt, header = None, names=cols, delim_whitespace=True)\n",
        "  ca_df['chain'], ca_df['position'] = ca_df['chain'].str[:1], ca_df['chain'].str[1:]\n",
        "  ca_df.drop(columns=['atom', 'general_count','1','2','3'], inplace=True)\n",
        "  ca_df.dropna(inplace=True)\n",
        "  filename = pdb_txt.split('/')[3].split('.')[0]\n",
        "  ca_df.to_csv(f'/content/pdb_ca_csv/{filename}_ca.csv')\n",
        "  ca_df"
      ],
      "metadata": {
        "id": "l_hMtcjLlLY5"
      },
      "execution_count": 11,
      "outputs": []
    },
    {
      "cell_type": "code",
      "source": [
        "pdb_files_download_list = glob.glob('/content/pdb_files_download/*')\n",
        "#pdb_files_download_list\n",
        "for i in range(len(pdb_files_download_list)):\n",
        "  print(\"i: \", i)\n",
        "  pdb_txt = parse_pdb(pdb_files_download_list[i])\n",
        "  clean_pdb(pdb_txt)"
      ],
      "metadata": {
        "colab": {
          "base_uri": "https://localhost:8080/",
          "height": 1000
        },
        "id": "bMrtwO2BzgYn",
        "outputId": "1600b396-3226-4bb7-ccfe-b599ca7072f3"
      },
      "execution_count": 13,
      "outputs": [
        {
          "output_type": "stream",
          "name": "stdout",
          "text": [
            "i:  0\n"
          ]
        },
        {
          "output_type": "stream",
          "name": "stderr",
          "text": [
            "/usr/local/lib/python3.7/dist-packages/Bio/PDB/StructureBuilder.py:92: PDBConstructionWarning: WARNING: Chain G is discontinuous at line 41055.\n",
            "  PDBConstructionWarning,\n",
            "/usr/local/lib/python3.7/dist-packages/Bio/PDB/StructureBuilder.py:92: PDBConstructionWarning: WARNING: Chain E is discontinuous at line 41060.\n",
            "  PDBConstructionWarning,\n",
            "/usr/local/lib/python3.7/dist-packages/Bio/PDB/StructureBuilder.py:92: PDBConstructionWarning: WARNING: Chain F is discontinuous at line 41065.\n",
            "  PDBConstructionWarning,\n",
            "/usr/local/lib/python3.7/dist-packages/Bio/PDB/StructureBuilder.py:92: PDBConstructionWarning: WARNING: Chain B is discontinuous at line 41070.\n",
            "  PDBConstructionWarning,\n",
            "/usr/local/lib/python3.7/dist-packages/Bio/PDB/StructureBuilder.py:92: PDBConstructionWarning: WARNING: Chain C is discontinuous at line 41075.\n",
            "  PDBConstructionWarning,\n",
            "/usr/local/lib/python3.7/dist-packages/Bio/PDB/StructureBuilder.py:92: PDBConstructionWarning: WARNING: Chain D is discontinuous at line 41080.\n",
            "  PDBConstructionWarning,\n",
            "/usr/local/lib/python3.7/dist-packages/Bio/PDB/StructureBuilder.py:92: PDBConstructionWarning: WARNING: Chain A is discontinuous at line 41085.\n",
            "  PDBConstructionWarning,\n",
            "/usr/local/lib/python3.7/dist-packages/Bio/PDB/StructureBuilder.py:92: PDBConstructionWarning: WARNING: Chain G is discontinuous at line 41090.\n",
            "  PDBConstructionWarning,\n",
            "/usr/local/lib/python3.7/dist-packages/Bio/PDB/StructureBuilder.py:92: PDBConstructionWarning: WARNING: Chain E is discontinuous at line 41104.\n",
            "  PDBConstructionWarning,\n",
            "/usr/local/lib/python3.7/dist-packages/Bio/PDB/StructureBuilder.py:92: PDBConstructionWarning: WARNING: Chain F is discontinuous at line 41118.\n",
            "  PDBConstructionWarning,\n",
            "/usr/local/lib/python3.7/dist-packages/Bio/PDB/StructureBuilder.py:92: PDBConstructionWarning: WARNING: Chain B is discontinuous at line 41138.\n",
            "  PDBConstructionWarning,\n",
            "/usr/local/lib/python3.7/dist-packages/Bio/PDB/StructureBuilder.py:92: PDBConstructionWarning: WARNING: Chain C is discontinuous at line 41151.\n",
            "  PDBConstructionWarning,\n",
            "/usr/local/lib/python3.7/dist-packages/Bio/PDB/StructureBuilder.py:92: PDBConstructionWarning: WARNING: Chain H is discontinuous at line 41177.\n",
            "  PDBConstructionWarning,\n",
            "/usr/local/lib/python3.7/dist-packages/Bio/PDB/StructureBuilder.py:92: PDBConstructionWarning: WARNING: Chain I is discontinuous at line 41193.\n",
            "  PDBConstructionWarning,\n",
            "/usr/local/lib/python3.7/dist-packages/Bio/PDB/StructureBuilder.py:92: PDBConstructionWarning: WARNING: Chain D is discontinuous at line 41216.\n",
            "  PDBConstructionWarning,\n",
            "/usr/local/lib/python3.7/dist-packages/Bio/PDB/StructureBuilder.py:92: PDBConstructionWarning: WARNING: Chain A is discontinuous at line 41225.\n",
            "  PDBConstructionWarning,\n"
          ]
        },
        {
          "output_type": "stream",
          "name": "stdout",
          "text": [
            "Sample name: <Structure id=test>\n",
            "Resolution: 2.75\n",
            "Keywords: ketoreductase, antibody fragment, oxidoreductase-immune system complex\n",
            "Model: <Model id=0>\n",
            "i:  1\n"
          ]
        },
        {
          "output_type": "stream",
          "name": "stderr",
          "text": [
            "/usr/local/lib/python3.7/dist-packages/Bio/PDB/StructureBuilder.py:92: PDBConstructionWarning: WARNING: Chain G is discontinuous at line 41055.\n",
            "  PDBConstructionWarning,\n",
            "/usr/local/lib/python3.7/dist-packages/Bio/PDB/StructureBuilder.py:92: PDBConstructionWarning: WARNING: Chain E is discontinuous at line 41060.\n",
            "  PDBConstructionWarning,\n",
            "/usr/local/lib/python3.7/dist-packages/Bio/PDB/StructureBuilder.py:92: PDBConstructionWarning: WARNING: Chain F is discontinuous at line 41065.\n",
            "  PDBConstructionWarning,\n",
            "/usr/local/lib/python3.7/dist-packages/Bio/PDB/StructureBuilder.py:92: PDBConstructionWarning: WARNING: Chain B is discontinuous at line 41070.\n",
            "  PDBConstructionWarning,\n",
            "/usr/local/lib/python3.7/dist-packages/Bio/PDB/StructureBuilder.py:92: PDBConstructionWarning: WARNING: Chain C is discontinuous at line 41075.\n",
            "  PDBConstructionWarning,\n",
            "/usr/local/lib/python3.7/dist-packages/Bio/PDB/StructureBuilder.py:92: PDBConstructionWarning: WARNING: Chain D is discontinuous at line 41080.\n",
            "  PDBConstructionWarning,\n",
            "/usr/local/lib/python3.7/dist-packages/Bio/PDB/StructureBuilder.py:92: PDBConstructionWarning: WARNING: Chain A is discontinuous at line 41085.\n",
            "  PDBConstructionWarning,\n",
            "/usr/local/lib/python3.7/dist-packages/Bio/PDB/StructureBuilder.py:92: PDBConstructionWarning: WARNING: Chain G is discontinuous at line 41090.\n",
            "  PDBConstructionWarning,\n",
            "/usr/local/lib/python3.7/dist-packages/Bio/PDB/StructureBuilder.py:92: PDBConstructionWarning: WARNING: Chain E is discontinuous at line 41104.\n",
            "  PDBConstructionWarning,\n",
            "/usr/local/lib/python3.7/dist-packages/Bio/PDB/StructureBuilder.py:92: PDBConstructionWarning: WARNING: Chain F is discontinuous at line 41118.\n",
            "  PDBConstructionWarning,\n",
            "/usr/local/lib/python3.7/dist-packages/Bio/PDB/StructureBuilder.py:92: PDBConstructionWarning: WARNING: Chain B is discontinuous at line 41138.\n",
            "  PDBConstructionWarning,\n",
            "/usr/local/lib/python3.7/dist-packages/Bio/PDB/StructureBuilder.py:92: PDBConstructionWarning: WARNING: Chain C is discontinuous at line 41151.\n",
            "  PDBConstructionWarning,\n",
            "/usr/local/lib/python3.7/dist-packages/Bio/PDB/StructureBuilder.py:92: PDBConstructionWarning: WARNING: Chain H is discontinuous at line 41177.\n",
            "  PDBConstructionWarning,\n",
            "/usr/local/lib/python3.7/dist-packages/Bio/PDB/StructureBuilder.py:92: PDBConstructionWarning: WARNING: Chain I is discontinuous at line 41193.\n",
            "  PDBConstructionWarning,\n",
            "/usr/local/lib/python3.7/dist-packages/Bio/PDB/StructureBuilder.py:92: PDBConstructionWarning: WARNING: Chain D is discontinuous at line 41216.\n",
            "  PDBConstructionWarning,\n",
            "/usr/local/lib/python3.7/dist-packages/Bio/PDB/StructureBuilder.py:92: PDBConstructionWarning: WARNING: Chain A is discontinuous at line 41225.\n",
            "  PDBConstructionWarning,\n"
          ]
        },
        {
          "output_type": "stream",
          "name": "stdout",
          "text": [
            "Sample name: <Structure id=test>\n",
            "Resolution: 2.75\n",
            "Keywords: ketoreductase, antibody fragment, oxidoreductase-immune system complex\n",
            "Model: <Model id=0>\n",
            "i:  2\n",
            "Sample name: <Structure id=test>\n",
            "Resolution: 1.79\n",
            "Keywords: short chain dehydrogenase/reductase, oxidoreductase\n",
            "Model: <Model id=0>\n",
            "i:  3\n",
            "Sample name: <Structure id=test>\n",
            "Resolution: 2.16\n",
            "Keywords: rex, nadh, nad, rossmann fold, redox sensing, winged helix, thermus themophilus, riken structural genomics/proteomics initiative, rsgi, structural genomics, dna binding protein\n",
            "Model: <Model id=0>\n"
          ]
        },
        {
          "output_type": "stream",
          "name": "stderr",
          "text": [
            "/usr/local/lib/python3.7/dist-packages/Bio/PDB/StructureBuilder.py:92: PDBConstructionWarning: WARNING: Chain A is discontinuous at line 3757.\n",
            "  PDBConstructionWarning,\n",
            "/usr/local/lib/python3.7/dist-packages/Bio/PDB/StructureBuilder.py:92: PDBConstructionWarning: WARNING: Chain B is discontinuous at line 3828.\n",
            "  PDBConstructionWarning,\n",
            "/usr/local/lib/python3.7/dist-packages/Bio/PDB/StructureBuilder.py:92: PDBConstructionWarning: WARNING: Chain A is discontinuous at line 3882.\n",
            "  PDBConstructionWarning,\n",
            "/usr/local/lib/python3.7/dist-packages/Bio/PDB/StructureBuilder.py:92: PDBConstructionWarning: WARNING: Chain B is discontinuous at line 4063.\n",
            "  PDBConstructionWarning,\n"
          ]
        },
        {
          "output_type": "error",
          "ename": "AttributeError",
          "evalue": "ignored",
          "traceback": [
            "\u001b[0;31m---------------------------------------------------------------------------\u001b[0m",
            "\u001b[0;31mAttributeError\u001b[0m                            Traceback (most recent call last)",
            "\u001b[0;32m<ipython-input-13-e4b40993a9dc>\u001b[0m in \u001b[0;36m<module>\u001b[0;34m()\u001b[0m\n\u001b[1;32m      4\u001b[0m   \u001b[0mprint\u001b[0m\u001b[0;34m(\u001b[0m\u001b[0;34m\"i: \"\u001b[0m\u001b[0;34m,\u001b[0m \u001b[0mi\u001b[0m\u001b[0;34m)\u001b[0m\u001b[0;34m\u001b[0m\u001b[0;34m\u001b[0m\u001b[0m\n\u001b[1;32m      5\u001b[0m   \u001b[0mpdb_txt\u001b[0m \u001b[0;34m=\u001b[0m \u001b[0mparse_pdb\u001b[0m\u001b[0;34m(\u001b[0m\u001b[0mpdb_files_download_list\u001b[0m\u001b[0;34m[\u001b[0m\u001b[0mi\u001b[0m\u001b[0;34m]\u001b[0m\u001b[0;34m)\u001b[0m\u001b[0;34m\u001b[0m\u001b[0;34m\u001b[0m\u001b[0m\n\u001b[0;32m----> 6\u001b[0;31m   \u001b[0mclean_pdb\u001b[0m\u001b[0;34m(\u001b[0m\u001b[0mpdb_txt\u001b[0m\u001b[0;34m)\u001b[0m\u001b[0;34m\u001b[0m\u001b[0;34m\u001b[0m\u001b[0m\n\u001b[0m",
            "\u001b[0;32m<ipython-input-11-8e00a69da1a7>\u001b[0m in \u001b[0;36mclean_pdb\u001b[0;34m(pdb_txt)\u001b[0m\n\u001b[1;32m      2\u001b[0m   \u001b[0mcols\u001b[0m \u001b[0;34m=\u001b[0m \u001b[0;34m[\u001b[0m\u001b[0;34m'atom'\u001b[0m\u001b[0;34m,\u001b[0m\u001b[0;34m'general_count'\u001b[0m\u001b[0;34m,\u001b[0m \u001b[0;34m'type'\u001b[0m\u001b[0;34m,\u001b[0m \u001b[0;34m'amino'\u001b[0m\u001b[0;34m,\u001b[0m \u001b[0;34m'chain'\u001b[0m\u001b[0;34m,\u001b[0m \u001b[0;34m'x'\u001b[0m\u001b[0;34m,\u001b[0m\u001b[0;34m'y'\u001b[0m\u001b[0;34m,\u001b[0m\u001b[0;34m'z'\u001b[0m\u001b[0;34m,\u001b[0m \u001b[0;34m'1'\u001b[0m\u001b[0;34m,\u001b[0m \u001b[0;34m'2'\u001b[0m\u001b[0;34m,\u001b[0m \u001b[0;34m'3'\u001b[0m\u001b[0;34m]\u001b[0m\u001b[0;34m\u001b[0m\u001b[0;34m\u001b[0m\u001b[0m\n\u001b[1;32m      3\u001b[0m   \u001b[0mca_df\u001b[0m \u001b[0;34m=\u001b[0m \u001b[0mpd\u001b[0m\u001b[0;34m.\u001b[0m\u001b[0mread_csv\u001b[0m\u001b[0;34m(\u001b[0m\u001b[0mpdb_txt\u001b[0m\u001b[0;34m,\u001b[0m \u001b[0mheader\u001b[0m \u001b[0;34m=\u001b[0m \u001b[0;32mNone\u001b[0m\u001b[0;34m,\u001b[0m \u001b[0mnames\u001b[0m\u001b[0;34m=\u001b[0m\u001b[0mcols\u001b[0m\u001b[0;34m,\u001b[0m \u001b[0mdelim_whitespace\u001b[0m\u001b[0;34m=\u001b[0m\u001b[0;32mTrue\u001b[0m\u001b[0;34m)\u001b[0m\u001b[0;34m\u001b[0m\u001b[0;34m\u001b[0m\u001b[0m\n\u001b[0;32m----> 4\u001b[0;31m   \u001b[0mca_df\u001b[0m\u001b[0;34m[\u001b[0m\u001b[0;34m'chain'\u001b[0m\u001b[0;34m]\u001b[0m\u001b[0;34m,\u001b[0m \u001b[0mca_df\u001b[0m\u001b[0;34m[\u001b[0m\u001b[0;34m'position'\u001b[0m\u001b[0;34m]\u001b[0m \u001b[0;34m=\u001b[0m \u001b[0mca_df\u001b[0m\u001b[0;34m[\u001b[0m\u001b[0;34m'chain'\u001b[0m\u001b[0;34m]\u001b[0m\u001b[0;34m.\u001b[0m\u001b[0mstr\u001b[0m\u001b[0;34m[\u001b[0m\u001b[0;34m:\u001b[0m\u001b[0;36m1\u001b[0m\u001b[0;34m]\u001b[0m\u001b[0;34m,\u001b[0m \u001b[0mca_df\u001b[0m\u001b[0;34m[\u001b[0m\u001b[0;34m'chain'\u001b[0m\u001b[0;34m]\u001b[0m\u001b[0;34m.\u001b[0m\u001b[0mstr\u001b[0m\u001b[0;34m[\u001b[0m\u001b[0;36m1\u001b[0m\u001b[0;34m:\u001b[0m\u001b[0;34m]\u001b[0m\u001b[0;34m\u001b[0m\u001b[0;34m\u001b[0m\u001b[0m\n\u001b[0m\u001b[1;32m      5\u001b[0m   \u001b[0mca_df\u001b[0m\u001b[0;34m.\u001b[0m\u001b[0mdrop\u001b[0m\u001b[0;34m(\u001b[0m\u001b[0mcolumns\u001b[0m\u001b[0;34m=\u001b[0m\u001b[0;34m[\u001b[0m\u001b[0;34m'atom'\u001b[0m\u001b[0;34m,\u001b[0m \u001b[0;34m'general_count'\u001b[0m\u001b[0;34m,\u001b[0m\u001b[0;34m'1'\u001b[0m\u001b[0;34m,\u001b[0m\u001b[0;34m'2'\u001b[0m\u001b[0;34m,\u001b[0m\u001b[0;34m'3'\u001b[0m\u001b[0;34m]\u001b[0m\u001b[0;34m,\u001b[0m \u001b[0minplace\u001b[0m\u001b[0;34m=\u001b[0m\u001b[0;32mTrue\u001b[0m\u001b[0;34m)\u001b[0m\u001b[0;34m\u001b[0m\u001b[0;34m\u001b[0m\u001b[0m\n\u001b[1;32m      6\u001b[0m   \u001b[0mca_df\u001b[0m\u001b[0;34m.\u001b[0m\u001b[0mdropna\u001b[0m\u001b[0;34m(\u001b[0m\u001b[0minplace\u001b[0m\u001b[0;34m=\u001b[0m\u001b[0;32mTrue\u001b[0m\u001b[0;34m)\u001b[0m\u001b[0;34m\u001b[0m\u001b[0;34m\u001b[0m\u001b[0m\n",
            "\u001b[0;32m/usr/local/lib/python3.7/dist-packages/pandas/core/generic.py\u001b[0m in \u001b[0;36m__getattr__\u001b[0;34m(self, name)\u001b[0m\n\u001b[1;32m   5485\u001b[0m         ):\n\u001b[1;32m   5486\u001b[0m             \u001b[0;32mreturn\u001b[0m \u001b[0mself\u001b[0m\u001b[0;34m[\u001b[0m\u001b[0mname\u001b[0m\u001b[0;34m]\u001b[0m\u001b[0;34m\u001b[0m\u001b[0;34m\u001b[0m\u001b[0m\n\u001b[0;32m-> 5487\u001b[0;31m         \u001b[0;32mreturn\u001b[0m \u001b[0mobject\u001b[0m\u001b[0;34m.\u001b[0m\u001b[0m__getattribute__\u001b[0m\u001b[0;34m(\u001b[0m\u001b[0mself\u001b[0m\u001b[0;34m,\u001b[0m \u001b[0mname\u001b[0m\u001b[0;34m)\u001b[0m\u001b[0;34m\u001b[0m\u001b[0;34m\u001b[0m\u001b[0m\n\u001b[0m\u001b[1;32m   5488\u001b[0m \u001b[0;34m\u001b[0m\u001b[0m\n\u001b[1;32m   5489\u001b[0m     \u001b[0;32mdef\u001b[0m \u001b[0m__setattr__\u001b[0m\u001b[0;34m(\u001b[0m\u001b[0mself\u001b[0m\u001b[0;34m,\u001b[0m \u001b[0mname\u001b[0m\u001b[0;34m:\u001b[0m \u001b[0mstr\u001b[0m\u001b[0;34m,\u001b[0m \u001b[0mvalue\u001b[0m\u001b[0;34m)\u001b[0m \u001b[0;34m->\u001b[0m \u001b[0;32mNone\u001b[0m\u001b[0;34m:\u001b[0m\u001b[0;34m\u001b[0m\u001b[0;34m\u001b[0m\u001b[0m\n",
            "\u001b[0;32m/usr/local/lib/python3.7/dist-packages/pandas/core/accessor.py\u001b[0m in \u001b[0;36m__get__\u001b[0;34m(self, obj, cls)\u001b[0m\n\u001b[1;32m    179\u001b[0m             \u001b[0;31m# we're accessing the attribute of the class, i.e., Dataset.geo\u001b[0m\u001b[0;34m\u001b[0m\u001b[0;34m\u001b[0m\u001b[0;34m\u001b[0m\u001b[0m\n\u001b[1;32m    180\u001b[0m             \u001b[0;32mreturn\u001b[0m \u001b[0mself\u001b[0m\u001b[0;34m.\u001b[0m\u001b[0m_accessor\u001b[0m\u001b[0;34m\u001b[0m\u001b[0;34m\u001b[0m\u001b[0m\n\u001b[0;32m--> 181\u001b[0;31m         \u001b[0maccessor_obj\u001b[0m \u001b[0;34m=\u001b[0m \u001b[0mself\u001b[0m\u001b[0;34m.\u001b[0m\u001b[0m_accessor\u001b[0m\u001b[0;34m(\u001b[0m\u001b[0mobj\u001b[0m\u001b[0;34m)\u001b[0m\u001b[0;34m\u001b[0m\u001b[0;34m\u001b[0m\u001b[0m\n\u001b[0m\u001b[1;32m    182\u001b[0m         \u001b[0;31m# Replace the property with the accessor object. Inspired by:\u001b[0m\u001b[0;34m\u001b[0m\u001b[0;34m\u001b[0m\u001b[0;34m\u001b[0m\u001b[0m\n\u001b[1;32m    183\u001b[0m         \u001b[0;31m# https://www.pydanny.com/cached-property.html\u001b[0m\u001b[0;34m\u001b[0m\u001b[0;34m\u001b[0m\u001b[0;34m\u001b[0m\u001b[0m\n",
            "\u001b[0;32m/usr/local/lib/python3.7/dist-packages/pandas/core/strings/accessor.py\u001b[0m in \u001b[0;36m__init__\u001b[0;34m(self, data)\u001b[0m\n\u001b[1;32m    166\u001b[0m         \u001b[0;32mfrom\u001b[0m \u001b[0mpandas\u001b[0m\u001b[0;34m.\u001b[0m\u001b[0mcore\u001b[0m\u001b[0;34m.\u001b[0m\u001b[0marrays\u001b[0m\u001b[0;34m.\u001b[0m\u001b[0mstring_\u001b[0m \u001b[0;32mimport\u001b[0m \u001b[0mStringDtype\u001b[0m\u001b[0;34m\u001b[0m\u001b[0;34m\u001b[0m\u001b[0m\n\u001b[1;32m    167\u001b[0m \u001b[0;34m\u001b[0m\u001b[0m\n\u001b[0;32m--> 168\u001b[0;31m         \u001b[0mself\u001b[0m\u001b[0;34m.\u001b[0m\u001b[0m_inferred_dtype\u001b[0m \u001b[0;34m=\u001b[0m \u001b[0mself\u001b[0m\u001b[0;34m.\u001b[0m\u001b[0m_validate\u001b[0m\u001b[0;34m(\u001b[0m\u001b[0mdata\u001b[0m\u001b[0;34m)\u001b[0m\u001b[0;34m\u001b[0m\u001b[0;34m\u001b[0m\u001b[0m\n\u001b[0m\u001b[1;32m    169\u001b[0m         \u001b[0mself\u001b[0m\u001b[0;34m.\u001b[0m\u001b[0m_is_categorical\u001b[0m \u001b[0;34m=\u001b[0m \u001b[0mis_categorical_dtype\u001b[0m\u001b[0;34m(\u001b[0m\u001b[0mdata\u001b[0m\u001b[0;34m.\u001b[0m\u001b[0mdtype\u001b[0m\u001b[0;34m)\u001b[0m\u001b[0;34m\u001b[0m\u001b[0;34m\u001b[0m\u001b[0m\n\u001b[1;32m    170\u001b[0m         \u001b[0mself\u001b[0m\u001b[0;34m.\u001b[0m\u001b[0m_is_string\u001b[0m \u001b[0;34m=\u001b[0m \u001b[0misinstance\u001b[0m\u001b[0;34m(\u001b[0m\u001b[0mdata\u001b[0m\u001b[0;34m.\u001b[0m\u001b[0mdtype\u001b[0m\u001b[0;34m,\u001b[0m \u001b[0mStringDtype\u001b[0m\u001b[0;34m)\u001b[0m\u001b[0;34m\u001b[0m\u001b[0;34m\u001b[0m\u001b[0m\n",
            "\u001b[0;32m/usr/local/lib/python3.7/dist-packages/pandas/core/strings/accessor.py\u001b[0m in \u001b[0;36m_validate\u001b[0;34m(data)\u001b[0m\n\u001b[1;32m    223\u001b[0m \u001b[0;34m\u001b[0m\u001b[0m\n\u001b[1;32m    224\u001b[0m         \u001b[0;32mif\u001b[0m \u001b[0minferred_dtype\u001b[0m \u001b[0;32mnot\u001b[0m \u001b[0;32min\u001b[0m \u001b[0mallowed_types\u001b[0m\u001b[0;34m:\u001b[0m\u001b[0;34m\u001b[0m\u001b[0;34m\u001b[0m\u001b[0m\n\u001b[0;32m--> 225\u001b[0;31m             \u001b[0;32mraise\u001b[0m \u001b[0mAttributeError\u001b[0m\u001b[0;34m(\u001b[0m\u001b[0;34m\"Can only use .str accessor with string values!\"\u001b[0m\u001b[0;34m)\u001b[0m\u001b[0;34m\u001b[0m\u001b[0;34m\u001b[0m\u001b[0m\n\u001b[0m\u001b[1;32m    226\u001b[0m         \u001b[0;32mreturn\u001b[0m \u001b[0minferred_dtype\u001b[0m\u001b[0;34m\u001b[0m\u001b[0;34m\u001b[0m\u001b[0m\n\u001b[1;32m    227\u001b[0m \u001b[0;34m\u001b[0m\u001b[0m\n",
            "\u001b[0;31mAttributeError\u001b[0m: Can only use .str accessor with string values!"
          ]
        }
      ]
    },
    {
      "cell_type": "code",
      "source": [
        ""
      ],
      "metadata": {
        "id": "nZ7-60KKt9KN"
      },
      "execution_count": null,
      "outputs": []
    }
  ]
}